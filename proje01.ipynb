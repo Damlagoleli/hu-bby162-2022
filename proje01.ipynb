{
  "nbformat": 4,
  "nbformat_minor": 0,
  "metadata": {
    "colab": {
      "name": "proje01.ipynb",
      "provenance": [],
      "authorship_tag": "ABX9TyO/+iZW5P/duRxlvOy9xnI3",
      "include_colab_link": true
    },
    "kernelspec": {
      "name": "python3",
      "display_name": "Python 3"
    },
    "language_info": {
      "name": "python"
    }
  },
  "cells": [
    {
      "cell_type": "markdown",
      "metadata": {
        "id": "view-in-github",
        "colab_type": "text"
      },
      "source": [
        "<a href=\"https://colab.research.google.com/github/Damlagoleli/hu-bby162-2022-/blob/main/proje01.ipynb\" target=\"_parent\"><img src=\"https://colab.research.google.com/assets/colab-badge.svg\" alt=\"Open In Colab\"/></a>"
      ]
    },
    {
      "cell_type": "code",
      "execution_count": null,
      "metadata": {
        "id": "HAIn9R6JU2Og"
      },
      "outputs": [],
      "source": [
        "liste = (\"tavşan\", \"marul\", \"leopar\", \"salam\", \"demir\", \"tahta\")\n",
        "secim = input(\"İndeks numarasını giriniz:  \")\n",
        "if secim. isdigit():\n",
        "  secim=int(secim)\n",
        "  listetoplam = len(liste)\n",
        "  if secim < listeToplam:\n",
        "     print(liste[secim])\n",
        "else:\n",
        "  print(\"indeks dışı giriş.\")\n",
        "  "
      ]
    }
  ]
}