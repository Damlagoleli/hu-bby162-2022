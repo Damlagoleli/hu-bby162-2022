{
  "nbformat": 4,
  "nbformat_minor": 0,
  "metadata": {
    "colab": {
      "name": "proje03.ipynb",
      "provenance": [],
      "authorship_tag": "ABX9TyNAA/AFePJ1gFgyIFUM8ul1",
      "include_colab_link": true
    },
    "kernelspec": {
      "name": "python3",
      "display_name": "Python 3"
    },
    "language_info": {
      "name": "python"
    }
  },
  "cells": [
    {
      "cell_type": "markdown",
      "metadata": {
        "id": "view-in-github",
        "colab_type": "text"
      },
      "source": [
        "<a href=\"https://colab.research.google.com/github/Damlagoleli/hu-bby162-2022-/blob/main/proje03.ipynb\" target=\"_parent\"><img src=\"https://colab.research.google.com/assets/colab-badge.svg\" alt=\"Open In Colab\"/></a>"
      ]
    },
    {
      "cell_type": "code",
      "execution_count": null,
      "metadata": {
        "colab": {
          "base_uri": "https://localhost:8080/"
        },
        "id": "Qs0_MDHJHGTD",
        "outputId": "f8374314-8ab7-4014-d08f-3e98e5d79c88"
      },
      "outputs": [
        {
          "output_type": "stream",
          "name": "stdout",
          "text": [
            "**************************************Test: 5 sorudan 1. Soru***************************************\n",
            "Soru 1: Verilen iller iç anadolu bölgesine mi aittir?\n",
            "-Ankara\n",
            "-Kayseri\n",
            "-Eskişehir\n",
            "-Kırıkkale\n"
          ]
        }
      ],
      "source": [
        "# Test Uygulaması\n",
        "class Soru:\n",
        "    def __init__(self,text,choices,answer):\n",
        "        self.text = text\n",
        "        self.choices = choices\n",
        "        self.answer = answer\n",
        "    \n",
        "    def checkAnswer(self, answer):\n",
        "        return self.answer == answer\n",
        "\n",
        "# Test\n",
        "class Test:\n",
        "    def __init__(self, sorular):\n",
        "        self.sorular = sorular\n",
        "        self.score = 0\n",
        "        self.soruIndex = 0\n",
        "\n",
        "    def sorulariGetir(self):\n",
        "        return self.sorular[self.soruIndex]\n",
        "\n",
        "    def sorulariGoster(self):\n",
        "        sorular = self.sorulariGetir()\n",
        "        print(f'Soru {self.soruIndex + 1}: {sorular.text}')\n",
        "\n",
        "        for q in sorular.choices:\n",
        "            print('-'+ q)\n",
        "        \n",
        "        answer = input('cevap: ')\n",
        "        self.guess(answer)\n",
        "        self.yukleSorular()\n",
        "\n",
        "    def guess(self, answer):\n",
        "        sorular = self.sorulariGetir()\n",
        "\n",
        "        if sorular.checkAnswer(answer):\n",
        "            self.score += 1\n",
        "        self.soruIndex += 1\n",
        "\n",
        "    def yukleSorular(self):\n",
        "        if len(self.sorular) == self.soruIndex:\n",
        "            self.puaniGoster()\n",
        "        else:         \n",
        "            self.sureciGoster()  \n",
        "            self.sorulariGoster()\n",
        "\n",
        "    def puaniGoster(self):\n",
        "        toplamPuan = self.score * 20;\n",
        "        enDusukPuan = 60;\n",
        "        dogruCevap = self.score;\n",
        "        \n",
        "        if toplamPuan <= enDusukPuan:\n",
        "            print(\"Üzgünüz ! Testi geçemediniz ! Toplam Puanınız: \", self.score * 20)\n",
        "            print(\"Toplam 5 sorudan\", dogruCevap, \"soruya doğru cevap verdiniz.\")\n",
        "        else:\n",
        "            print(\"Tebrikler ! Testi başarıyla tamamladınız! Toplam Puanınız: \", self.score * 20)\n",
        "            print(\"Toplam 5 sorudan\", dogruCevap, \"soruya doğru cevap verdiniz.\")\n",
        "    def sureciGoster(self):\n",
        "        toplamSoru = len(self.sorular)\n",
        "        soruNumarasi = self.soruIndex + 1\n",
        "\n",
        "        if soruNumarasi > toplamSoru:\n",
        "            print('Test bitti.')\n",
        "        else:\n",
        "            print(f'Test: {toplamSoru} sorudan {soruNumarasi}. Soru'.center(100,'*'))\n",
        "\n",
        "soru1 = Soru('Verilen iller iç anadolu bölgesine mi aittir?', ['Ankara','Kayseri','Eskişehir','Kırıkkale'], 'evet')\n",
        "soru2 = Soru('Aşağıda sunulan besinler meyve midir?', ['Salatalık','Enginar','Fasulye','Patlıcan'], 'hayır')\n",
        "soru3 = Soru('Verilen isimler kız ismi midir?', ['Ebru','Damla','Deniz','Hatice'], 'evet')\n",
        "soru4 = Soru('Verilen markalar birer elektronik markası mıdır?', ['Adidas','Nike','Levis','Zara'], 'hayır')\n",
        "soru5 = Soru('Verilen isimler birer gezegen ismi midir?', ['Dünya','Mars','Venüs','Jupiter'], 'evet')\n",
        "\n",
        "sorular = [soru1,soru2,soru3,soru4,soru5]\n",
        "\n",
        "test = Test(sorular)\n",
        "\n",
        "test.yukleSorular()"
      ]
    }
  ]
}