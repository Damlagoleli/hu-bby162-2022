{
  "nbformat": 4,
  "nbformat_minor": 0,
  "metadata": {
    "colab": {
      "name": "veritabani.ipynb",
      "provenance": [],
      "authorship_tag": "ABX9TyPL8y20QM2ByJ8lCZ3KNXX4",
      "include_colab_link": true
    },
    "kernelspec": {
      "name": "python3",
      "display_name": "Python 3"
    },
    "language_info": {
      "name": "python"
    }
  },
  "cells": [
    {
      "cell_type": "markdown",
      "metadata": {
        "id": "view-in-github",
        "colab_type": "text"
      },
      "source": [
        "<a href=\"https://colab.research.google.com/github/Damlagoleli/hu-bby162-2022-/blob/main/veritabani.ipynb\" target=\"_parent\"><img src=\"https://colab.research.google.com/assets/colab-badge.svg\" alt=\"Open In Colab\"/></a>"
      ]
    },
    {
      "cell_type": "code",
      "execution_count": null,
      "metadata": {
        "id": "zmj_ENcvTmLl"
      },
      "outputs": [],
      "source": [
        "1.Ben Kirke / Madeline Miller/2019/ İthaki Yayınları\n",
        "2.Martin Eden/ Jack London/1909/İş Bankası Kültür Yayınları \n",
        "3.Denemeler/Montaigne/2006/İş Bankası Kültür Yayınları "
      ]
    }
  ]
}