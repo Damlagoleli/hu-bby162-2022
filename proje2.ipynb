{
  "cells": [
    {
      "cell_type": "markdown",
      "metadata": {
        "id": "view-in-github",
        "colab_type": "text"
      },
      "source": [
        "<a href=\"https://colab.research.google.com/github/Damlagoleli/hu-bby162-2022-/blob/main/proje2.ipynb\" target=\"_parent\"><img src=\"https://colab.research.google.com/assets/colab-badge.svg\" alt=\"Open In Colab\"/></a>"
      ]
    },
    {
      "cell_type": "code",
      "execution_count": null,
      "metadata": {
        "colab": {
          "base_uri": "https://localhost:8080/"
        },
        "id": "hxoxB2vybKF7",
        "outputId": "937da5d1-78bb-4e74-fffb-fbb3bcab4bd0"
      },
      "outputs": [
        {
          "metadata": {
            "tags": null
          },
          "name": "stdout",
          "output_type": "stream",
          "text": [
            "adam asmaca oyununa hoş geldiniz\n",
            "lütfen seviyenizi seçin\n",
            "seviyeler:basit seviye,orta seviye,ileri seviye\n",
            "eşya tahmininde bulunun\n",
            "kelime tahmin edin:   _ _ _ _ \n",
            "girdiğiniz kelime yanlış!\n",
            "kelime tahmin edin:   _ _ _ _ \n",
            "girdiğiniz kelime yanlış!\n",
            "kelime tahmin edin:   _ _ _ _ \n",
            "girdiğiniz kelime yanlış!\n"
          ]
        }
      ],
      "source": [
        "\n",
        "#adam asmaca\n",
        "import random\n",
        "print(\"adam asmaca oyununa hoş geldiniz\")\n",
        "print(\"lütfen seviyenizi seçin\")\n",
        "print(\"seviyeler:basit seviye,orta seviye,ileri seviye\")\n",
        "seviyeler=[\"basit seviye\",\"orta seviye\",\"ileri seviye\"]\n",
        "girilen=input(\"seviyenizi girin:\")\n",
        "if girilen==seviyeler[0]:\n",
        "  print(\"eşya tahmininde bulunun\")\n",
        "elif girilen==seviyeler[1]:\n",
        "  print(\"meyve tahmininde bulunun\")\n",
        "elif girilen==seviyeler[2]:\n",
        "  print(\"hayvan tahmininde bulunun\")\n",
        "if girilen==seviyeler[0]:\n",
        " kelimeler=random.choice([\"cam\",\"saat\",\"halı\",\"ayna\"]) \n",
        " gecerliHarfler='abcdefghijklmnoprstuvwxyz'\n",
        " can=10\n",
        " yapılanTahmin=''\n",
        " while len(kelimeler)>0:\n",
        "  kelime=\" \"\n",
        "  hataliTahminSayısı=0\n",
        "  \n",
        "  for harf in kelimeler:\n",
        "    if harf in yapılanTahmin:\n",
        "      kelime=kelime+harf\n",
        "    else:\n",
        "      kelime=kelime+ \"_\"+\" \"\n",
        "  if kelime==kelimeler:\n",
        "    print(kelimeler)\n",
        "    print(\"tebrikler kazandınız\")\n",
        "    break\n",
        "  print(\"kelime tahmin edin: \",kelime)\n",
        "  tahmin=input()\n",
        "  if tahmin in gecerliHarfler:\n",
        "    yapılanTahmin=(yapılanTahmin + tahmin)\n",
        "  else:\n",
        "    print(\"girdiğiniz kelime yanlış!\")\n",
        "    tahmin=input(\"tekrar deneyin: \")\n",
        "\n",
        "if girilen==seviyeler[1]:\n",
        " kelimeler=random.choice([\"ananas\",\"armut\",\"kiraz\",\"vişne\"])\n",
        " gecerliHarfler='abcdefghijklmnopqrstuvwxyz'\n",
        " toplamHak=5\n",
        " yapılanTahmin=' '\n",
        "while len(kelimeler)> 0:\n",
        "  kelime=\" \"\n",
        "  hatalıTahminSayısı=0\n",
        "\n",
        "  for harf in kelimeler:\n",
        "    if harf in yapılanTahmin:\n",
        "      kelime=kelime+harf\n",
        "    else:\n",
        "      kelime=kelime+ \"_\"+\" \"\n",
        "    if kelime==kelimeler:\n",
        "      print(kelime)\n",
        "      print(\"tebrikler kazandınız\")\n",
        "      break\n",
        "    print(\"kelime tahmin edin: \", kelime)\n",
        "    tahmin=input( )\n",
        "    if tahmin in gecerliHarfler:\n",
        "      yapilanTahmin=yapilanTahmin+tahmin\n",
        "    else:\n",
        "      print(\"girdiğiniz kelime yanlış!\")\n",
        "      tahmin=input(\"tekrar deneyin:\" )\n",
        "    \n",
        "  if girilen==seviyeler[2]:\n",
        "   kelimeler=random.choice([\"köstebek\",\"kanguru\",\"dinozor\",\"kurbağa\"])\n",
        "   gecerliHarfler='abcdefghjklmnopqrstuvwxyz'\n",
        "   toplamHak=3\n",
        "   yapilanTahmin=' '\n",
        "  while len(kelimeler)>0:\n",
        "    kelime=\" \"\n",
        "    hataliTahminSayısı=0\n",
        "\n",
        "    for harf in kelimeler:\n",
        "      if harf in yapilanTahmin:\n",
        "        kelime= kelime+harf \n",
        "      else:\n",
        "        kelime=kelime+\"_\"+\" \"\n",
        "    if kelime==kelimeler:\n",
        "      printkelime\n",
        "      print(\"tebrikler\")\n",
        "      break\n",
        "    print(\"kelime tahmin edin:\", kelime)\n",
        "    tahmin=input( )\n",
        "    if tahmin in gecerliHarfler:\n",
        "      yapilanTahmin=yapilanTahmin+tahmin\n",
        "    else:\n",
        "      print(\"girdiğiniz kelime yanlış!\")\n",
        "      tahmin=input(\"tekrar deneyin:\" )\n",
        "\n",
        "    \n",
        "\n",
        "\n",
        "\n",
        "\n",
        "\n"
      ]
    },
    {
      "cell_type": "code",
      "execution_count": null,
      "metadata": {
        "id": "tXaZvFISIMut"
      },
      "outputs": [],
      "source": [
        ""
      ]
    },
    {
      "cell_type": "code",
      "execution_count": null,
      "metadata": {
        "id": "T4okFLkn3a5B"
      },
      "outputs": [],
      "source": [
        ""
      ]
    }
  ],
  "metadata": {
    "colab": {
      "name": "proje2.ipynb",
      "provenance": [],
      "authorship_tag": "ABX9TyMAwDuTDJpww9tdqLqiYr2u",
      "include_colab_link": true
    },
    "kernelspec": {
      "display_name": "Python 3",
      "name": "python3"
    },
    "language_info": {
      "name": "python"
    }
  },
  "nbformat": 4,
  "nbformat_minor": 0
}