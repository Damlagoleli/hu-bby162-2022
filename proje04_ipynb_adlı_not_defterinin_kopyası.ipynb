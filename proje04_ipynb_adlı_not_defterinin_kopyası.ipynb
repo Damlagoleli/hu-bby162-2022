{
  "cells": [
    {
      "cell_type": "markdown",
      "metadata": {
        "id": "view-in-github",
        "colab_type": "text"
      },
      "source": [
        "<a href=\"https://colab.research.google.com/github/Damlagoleli/hu-bby162-2022-/blob/main/proje04_ipynb_adl%C4%B1_not_defterinin_kopyas%C4%B1.ipynb\" target=\"_parent\"><img src=\"https://colab.research.google.com/assets/colab-badge.svg\" alt=\"Open In Colab\"/></a>"
      ]
    },
    {
      "cell_type": "code",
      "execution_count": null,
      "metadata": {
        "colab": {
          "base_uri": "https://localhost:8080/"
        },
        "id": "wWsTwtVXlwko",
        "outputId": "75a8008c-88fe-4ffc-99c2-86254baba521"
      },
      "outputs": [
        {
          "output_type": "stream",
          "name": "stdout",
          "text": [
            "Drive already mounted at /content/drive; to attempt to forcibly remount, call drive.mount(\"/content/drive\", force_remount=True).\n"
          ]
        }
      ],
      "source": [
        "from google.colab import drive\n",
        "drive.mount(\"/content/drive\")\n",
        "\n",
        "dosyaYolu = (\"/content/drive/MyDrive/veritabanı.txt\")\n",
        "\n",
        "def kitap_ekle():\n",
        "    baslik = input(\"Kitap Başlıği: \").strip().title()\n",
        "    yazar = input(\"Kitap Yazarı: \").strip().title()\n",
        "    yayinevi = input(\"Yayın Evi: \").strip().title()\n",
        "    basimyili = input(\"Basım yılı : \").strip()\n",
        "    \n",
        "    \n",
        "    with open(\"/content/drive/MyDrive/veritabanı.txt\", \"w\",encoding = \"UTF-8\") as kitap_listesi:\n",
        "     kitap_listesi.write(f\"{baslik},{yazar},{basimyili},{yayinevi}\\n\")\n",
        "\n",
        "def kitap_bul():\n",
        "    kitap_listesi = bütün_kitaplar()\n",
        "    eslesen_kitaplar = []\n",
        "\n",
        "    Arama = input(\"Aramak için bir kitap başlığı giriniz: \").strip().lower()\n",
        "\n",
        "    for kitap in kitap_listesi:\n",
        "      if Arama in kitap[\"Başlık\"].lower():\n",
        "        eslesen_kitaplar.append(kitap)\n",
        "        \n",
        "\n",
        "    return eslesen_kitaplar\n",
        "\n",
        "def bütün_kitaplar():\n",
        "  kitaplar = []\n",
        "  with open(\"/content/drive/MyDrive/veritabanı.txt\", \"r\",encoding = \"UTF-8\") as kitap_listesi:\n",
        "    for kitap in kitap_listesi:\n",
        "      baslik, yazar, basimyili, yayinevi = kitap.strip().split(\"/\")\n",
        "\n",
        "      kitaplar.append({\n",
        "          \"Başlık\": baslik,\n",
        "          \"Yazar\": yazar,\n",
        "          \"BasımYılı\": basimyili,\n",
        "          \"YayınEvi\": yayinevi\n",
        "            })\n",
        "                \n",
        "  return kitaplar\n",
        "\n",
        "def Kitap_göster(kitaplar):\n",
        "    print()\n",
        "\n",
        "    for kitap in kitaplar:\n",
        "        print(f\"{kitap['Başlık']}, {kitap['Yazar']}, {kitap['BasımYılı']}, ({kitap['YayınEvi']})\")\n",
        "        print()\n",
        "\n",
        "menü = \"\"\"Aşağıdaki seçeneklerden birini seçiniz:\n",
        "\n",
        "- 'a' Kitap Ekle\n",
        "- 'l' Kitapları Listele\n",
        "- 's' Kitap Ara\n",
        "- 'q' Çıkış\n",
        "\n",
        "Ne yapmak istersiniz? \"\"\"\n",
        "\n",
        "secenek = input(menü).strip().lower()\n",
        "\n",
        "while secenek != \"q\":\n",
        "  if secenek == \"a\":\n",
        "    kitap_ekle()\n",
        "  elif secenek == \"l\":\n",
        "    kitap_listesi = bütün_kitaplar()\n",
        "    if kitap_listesi:\n",
        "      Kitap_göster(kitap_listesi)\n",
        "    else:\n",
        "      print(\"Listeniz boş gözüküyor.\")\n",
        "  elif secenek == \"s\":\n",
        "    eslesen_kitaplar = kitap_bul()\n",
        "    if eslesen_kitaplar:\n",
        "      Kitap_göster(eslesen_kitaplar)\n",
        "    else:\n",
        "      print(\"Üzgünüm aradığınız kitap bulunamadı.\")\n",
        "  else:\n",
        "    print(f\"Üzgünüm, '{secenek}' Geçerli bir seçenek değil.\")\n",
        "  secenek = input(menü).strip().lower()"
      ]
    }
  ],
  "metadata": {
    "colab": {
      "name": "proje04.ipynb adlı not defterinin kopyası",
      "provenance": [],
      "authorship_tag": "ABX9TyMc+uX4qDYTbU6SCqpH1t3d",
      "include_colab_link": true
    },
    "kernelspec": {
      "display_name": "Python 3",
      "name": "python3"
    },
    "language_info": {
      "name": "python"
    }
  },
  "nbformat": 4,
  "nbformat_minor": 0
}